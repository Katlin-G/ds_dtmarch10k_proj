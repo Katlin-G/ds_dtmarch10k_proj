{
 "cells": [
  {
   "cell_type": "code",
   "execution_count": 1,
   "id": "7c9352bb",
   "metadata": {},
   "outputs": [],
   "source": [
    "import pandas as pd \n",
    "import plotly.express as px \n",
    "import plotly.graph_objects as go #data visualization for python \n",
    "pd.set_option('display.max_columns', None) #To see solumns in a wide view\n",
    "\n",
    "\n",
    "###https://www.basketball-reference.com/wnba/players/t/tauradi01w.html#per_game0\n",
    "###<a href=\"https://www.sports-reference.com/sharing.html?utm_source=direct&utm_medium=Share&utm_campaign=ShareTool\">\n",
    "\n",
    "data = pd.read_csv('dt_regularseason2.csv')"
   ]
  },
  {
   "cell_type": "code",
   "execution_count": null,
   "id": "e88f5565",
   "metadata": {},
   "outputs": [],
   "source": []
  }
 ],
 "metadata": {
  "kernelspec": {
   "display_name": "Python 3 (ipykernel)",
   "language": "python",
   "name": "python3"
  },
  "language_info": {
   "codemirror_mode": {
    "name": "ipython",
    "version": 3
   },
   "file_extension": ".py",
   "mimetype": "text/x-python",
   "name": "python",
   "nbconvert_exporter": "python",
   "pygments_lexer": "ipython3",
   "version": "3.9.12"
  }
 },
 "nbformat": 4,
 "nbformat_minor": 5
}
